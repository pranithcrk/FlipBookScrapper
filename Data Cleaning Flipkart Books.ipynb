{
 "cells": [
  {
   "cell_type": "markdown",
   "metadata": {},
   "source": [
    "<h2>Data Cleaning </h2>\n",
    "\n",
    "<h3>Problem Statement: </h3>\n",
    "\n",
    "To perform data analysis and cleaning for comprehensive data analysis through data visualizations.\n",
    "\n",
    "First, let's import the required libraries:"
   ]
  },
  {
   "cell_type": "code",
   "execution_count": 146,
   "metadata": {},
   "outputs": [],
   "source": [
    "import pandas as pd\n",
    "import seaborn as sns\n",
    "import matplotlib.pyplot as plt\n",
    "import numpy as np"
   ]
  },
  {
   "cell_type": "markdown",
   "metadata": {},
   "source": [
    "Now, I'll be importing the flipkart book data which I had scraped from the flipkart website:"
   ]
  },
  {
   "cell_type": "code",
   "execution_count": 147,
   "metadata": {},
   "outputs": [],
   "source": [
    "df = pd.read_csv(r\"C:\\Users\\nakausha\\Downloads\\projects\\flipkart-webscraping\\flipkart_books.csv\")"
   ]
  },
  {
   "cell_type": "markdown",
   "metadata": {},
   "source": [
    "Great! Now, let's check to see the structure of our data:"
   ]
  },
  {
   "cell_type": "code",
   "execution_count": 148,
   "metadata": {},
   "outputs": [
    {
     "data": {
      "text/html": [
       "<div>\n",
       "<style scoped>\n",
       "    .dataframe tbody tr th:only-of-type {\n",
       "        vertical-align: middle;\n",
       "    }\n",
       "\n",
       "    .dataframe tbody tr th {\n",
       "        vertical-align: top;\n",
       "    }\n",
       "\n",
       "    .dataframe thead th {\n",
       "        text-align: right;\n",
       "    }\n",
       "</style>\n",
       "<table border=\"1\" class=\"dataframe\">\n",
       "  <thead>\n",
       "    <tr style=\"text-align: right;\">\n",
       "      <th></th>\n",
       "      <th>Unnamed: 0</th>\n",
       "      <th>name</th>\n",
       "      <th>type</th>\n",
       "      <th>rating</th>\n",
       "      <th>number_of_ratings</th>\n",
       "      <th>final_price</th>\n",
       "      <th>original_price</th>\n",
       "      <th>discount</th>\n",
       "    </tr>\n",
       "  </thead>\n",
       "  <tbody>\n",
       "    <tr>\n",
       "      <td>0</td>\n",
       "      <td>0</td>\n",
       "      <td>Ethics (Hindi) - Nitishastra with 1 Disc</td>\n",
       "      <td>Hindi, Paperback, Sunil Agrahari</td>\n",
       "      <td>4.4</td>\n",
       "      <td>150</td>\n",
       "      <td>449</td>\n",
       "      <td>560</td>\n",
       "      <td>19</td>\n",
       "    </tr>\n",
       "    <tr>\n",
       "      <td>1</td>\n",
       "      <td>1</td>\n",
       "      <td>A Naturalist's Guide To The Reptiles Of India</td>\n",
       "      <td>English, Paperback, Das Indraneil</td>\n",
       "      <td>4.3</td>\n",
       "      <td>30</td>\n",
       "      <td>317</td>\n",
       "      <td>499</td>\n",
       "      <td>36</td>\n",
       "    </tr>\n",
       "    <tr>\n",
       "      <td>2</td>\n",
       "      <td>2</td>\n",
       "      <td>Think Like a Monk - Train Your Mind for Peace ...</td>\n",
       "      <td>English, Paperback, Jay Shetty</td>\n",
       "      <td>4.8</td>\n",
       "      <td>807</td>\n",
       "      <td>388</td>\n",
       "      <td>499</td>\n",
       "      <td>22</td>\n",
       "    </tr>\n",
       "    <tr>\n",
       "      <td>3</td>\n",
       "      <td>3</td>\n",
       "      <td>25 Years UPSC IAS/ IPS Prelims Topic-wise Solv...</td>\n",
       "      <td>English, Paperback, Disha Experts, Mrunal Patel</td>\n",
       "      <td>4.5</td>\n",
       "      <td>16860</td>\n",
       "      <td>271</td>\n",
       "      <td>525</td>\n",
       "      <td>48</td>\n",
       "    </tr>\n",
       "    <tr>\n",
       "      <td>4</td>\n",
       "      <td>4</td>\n",
       "      <td>Word Power Made Easy</td>\n",
       "      <td>Paperbook, Norman Lewis</td>\n",
       "      <td>4.3</td>\n",
       "      <td>808</td>\n",
       "      <td>170</td>\n",
       "      <td>399</td>\n",
       "      <td>57</td>\n",
       "    </tr>\n",
       "  </tbody>\n",
       "</table>\n",
       "</div>"
      ],
      "text/plain": [
       "   Unnamed: 0                                               name  \\\n",
       "0           0           Ethics (Hindi) - Nitishastra with 1 Disc   \n",
       "1           1      A Naturalist's Guide To The Reptiles Of India   \n",
       "2           2  Think Like a Monk - Train Your Mind for Peace ...   \n",
       "3           3  25 Years UPSC IAS/ IPS Prelims Topic-wise Solv...   \n",
       "4           4                               Word Power Made Easy   \n",
       "\n",
       "                                              type  rating  number_of_ratings  \\\n",
       "0                 Hindi, Paperback, Sunil Agrahari     4.4                150   \n",
       "1                English, Paperback, Das Indraneil     4.3                 30   \n",
       "2                   English, Paperback, Jay Shetty     4.8                807   \n",
       "3  English, Paperback, Disha Experts, Mrunal Patel     4.5              16860   \n",
       "4                          Paperbook, Norman Lewis     4.3                808   \n",
       "\n",
       "   final_price  original_price  discount  \n",
       "0          449             560        19  \n",
       "1          317             499        36  \n",
       "2          388             499        22  \n",
       "3          271             525        48  \n",
       "4          170             399        57  "
      ]
     },
     "execution_count": 148,
     "metadata": {},
     "output_type": "execute_result"
    }
   ],
   "source": [
    "df.head()"
   ]
  },
  {
   "cell_type": "markdown",
   "metadata": {},
   "source": [
    "Removing the redundant index column in 3..2..1.."
   ]
  },
  {
   "cell_type": "code",
   "execution_count": 149,
   "metadata": {},
   "outputs": [],
   "source": [
    "df = df.drop(columns = 'Unnamed: 0')"
   ]
  },
  {
   "cell_type": "markdown",
   "metadata": {},
   "source": [
    "Again, let's print and have a look at the dataframe and its features:"
   ]
  },
  {
   "cell_type": "code",
   "execution_count": 150,
   "metadata": {},
   "outputs": [
    {
     "data": {
      "text/html": [
       "<div>\n",
       "<style scoped>\n",
       "    .dataframe tbody tr th:only-of-type {\n",
       "        vertical-align: middle;\n",
       "    }\n",
       "\n",
       "    .dataframe tbody tr th {\n",
       "        vertical-align: top;\n",
       "    }\n",
       "\n",
       "    .dataframe thead th {\n",
       "        text-align: right;\n",
       "    }\n",
       "</style>\n",
       "<table border=\"1\" class=\"dataframe\">\n",
       "  <thead>\n",
       "    <tr style=\"text-align: right;\">\n",
       "      <th></th>\n",
       "      <th>name</th>\n",
       "      <th>type</th>\n",
       "      <th>rating</th>\n",
       "      <th>number_of_ratings</th>\n",
       "      <th>final_price</th>\n",
       "      <th>original_price</th>\n",
       "      <th>discount</th>\n",
       "    </tr>\n",
       "  </thead>\n",
       "  <tbody>\n",
       "    <tr>\n",
       "      <td>0</td>\n",
       "      <td>Ethics (Hindi) - Nitishastra with 1 Disc</td>\n",
       "      <td>Hindi, Paperback, Sunil Agrahari</td>\n",
       "      <td>4.4</td>\n",
       "      <td>150</td>\n",
       "      <td>449</td>\n",
       "      <td>560</td>\n",
       "      <td>19</td>\n",
       "    </tr>\n",
       "    <tr>\n",
       "      <td>1</td>\n",
       "      <td>A Naturalist's Guide To The Reptiles Of India</td>\n",
       "      <td>English, Paperback, Das Indraneil</td>\n",
       "      <td>4.3</td>\n",
       "      <td>30</td>\n",
       "      <td>317</td>\n",
       "      <td>499</td>\n",
       "      <td>36</td>\n",
       "    </tr>\n",
       "    <tr>\n",
       "      <td>2</td>\n",
       "      <td>Think Like a Monk - Train Your Mind for Peace ...</td>\n",
       "      <td>English, Paperback, Jay Shetty</td>\n",
       "      <td>4.8</td>\n",
       "      <td>807</td>\n",
       "      <td>388</td>\n",
       "      <td>499</td>\n",
       "      <td>22</td>\n",
       "    </tr>\n",
       "    <tr>\n",
       "      <td>3</td>\n",
       "      <td>25 Years UPSC IAS/ IPS Prelims Topic-wise Solv...</td>\n",
       "      <td>English, Paperback, Disha Experts, Mrunal Patel</td>\n",
       "      <td>4.5</td>\n",
       "      <td>16860</td>\n",
       "      <td>271</td>\n",
       "      <td>525</td>\n",
       "      <td>48</td>\n",
       "    </tr>\n",
       "    <tr>\n",
       "      <td>4</td>\n",
       "      <td>Word Power Made Easy</td>\n",
       "      <td>Paperbook, Norman Lewis</td>\n",
       "      <td>4.3</td>\n",
       "      <td>808</td>\n",
       "      <td>170</td>\n",
       "      <td>399</td>\n",
       "      <td>57</td>\n",
       "    </tr>\n",
       "  </tbody>\n",
       "</table>\n",
       "</div>"
      ],
      "text/plain": [
       "                                                name  \\\n",
       "0           Ethics (Hindi) - Nitishastra with 1 Disc   \n",
       "1      A Naturalist's Guide To The Reptiles Of India   \n",
       "2  Think Like a Monk - Train Your Mind for Peace ...   \n",
       "3  25 Years UPSC IAS/ IPS Prelims Topic-wise Solv...   \n",
       "4                               Word Power Made Easy   \n",
       "\n",
       "                                              type  rating  number_of_ratings  \\\n",
       "0                 Hindi, Paperback, Sunil Agrahari     4.4                150   \n",
       "1                English, Paperback, Das Indraneil     4.3                 30   \n",
       "2                   English, Paperback, Jay Shetty     4.8                807   \n",
       "3  English, Paperback, Disha Experts, Mrunal Patel     4.5              16860   \n",
       "4                          Paperbook, Norman Lewis     4.3                808   \n",
       "\n",
       "   final_price  original_price  discount  \n",
       "0          449             560        19  \n",
       "1          317             499        36  \n",
       "2          388             499        22  \n",
       "3          271             525        48  \n",
       "4          170             399        57  "
      ]
     },
     "execution_count": 150,
     "metadata": {},
     "output_type": "execute_result"
    }
   ],
   "source": [
    "df.head()"
   ]
  },
  {
   "cell_type": "code",
   "execution_count": 151,
   "metadata": {},
   "outputs": [
    {
     "name": "stdout",
     "output_type": "stream",
     "text": [
      "Shape of DataFrame: (1007, 7)\n"
     ]
    }
   ],
   "source": [
    "print(\"Shape of DataFrame: {}\".format(df.shape))"
   ]
  },
  {
   "cell_type": "code",
   "execution_count": 152,
   "metadata": {
    "scrolled": true
   },
   "outputs": [
    {
     "data": {
      "text/html": [
       "<div>\n",
       "<style scoped>\n",
       "    .dataframe tbody tr th:only-of-type {\n",
       "        vertical-align: middle;\n",
       "    }\n",
       "\n",
       "    .dataframe tbody tr th {\n",
       "        vertical-align: top;\n",
       "    }\n",
       "\n",
       "    .dataframe thead th {\n",
       "        text-align: right;\n",
       "    }\n",
       "</style>\n",
       "<table border=\"1\" class=\"dataframe\">\n",
       "  <thead>\n",
       "    <tr style=\"text-align: right;\">\n",
       "      <th></th>\n",
       "      <th>rating</th>\n",
       "      <th>number_of_ratings</th>\n",
       "      <th>final_price</th>\n",
       "      <th>original_price</th>\n",
       "      <th>discount</th>\n",
       "    </tr>\n",
       "  </thead>\n",
       "  <tbody>\n",
       "    <tr>\n",
       "      <td>count</td>\n",
       "      <td>1007.000000</td>\n",
       "      <td>1007.000000</td>\n",
       "      <td>1007.000000</td>\n",
       "      <td>1007.000000</td>\n",
       "      <td>1007.000000</td>\n",
       "    </tr>\n",
       "    <tr>\n",
       "      <td>mean</td>\n",
       "      <td>4.371400</td>\n",
       "      <td>1553.373386</td>\n",
       "      <td>347.646475</td>\n",
       "      <td>504.901688</td>\n",
       "      <td>26.476663</td>\n",
       "    </tr>\n",
       "    <tr>\n",
       "      <td>std</td>\n",
       "      <td>0.191977</td>\n",
       "      <td>3575.178018</td>\n",
       "      <td>292.309611</td>\n",
       "      <td>443.504317</td>\n",
       "      <td>15.550252</td>\n",
       "    </tr>\n",
       "    <tr>\n",
       "      <td>min</td>\n",
       "      <td>3.400000</td>\n",
       "      <td>3.000000</td>\n",
       "      <td>12.000000</td>\n",
       "      <td>15.000000</td>\n",
       "      <td>1.000000</td>\n",
       "    </tr>\n",
       "    <tr>\n",
       "      <td>25%</td>\n",
       "      <td>4.300000</td>\n",
       "      <td>107.000000</td>\n",
       "      <td>180.000000</td>\n",
       "      <td>242.500000</td>\n",
       "      <td>15.000000</td>\n",
       "    </tr>\n",
       "    <tr>\n",
       "      <td>50%</td>\n",
       "      <td>4.400000</td>\n",
       "      <td>425.000000</td>\n",
       "      <td>279.000000</td>\n",
       "      <td>395.000000</td>\n",
       "      <td>25.000000</td>\n",
       "    </tr>\n",
       "    <tr>\n",
       "      <td>75%</td>\n",
       "      <td>4.500000</td>\n",
       "      <td>1303.500000</td>\n",
       "      <td>428.000000</td>\n",
       "      <td>599.000000</td>\n",
       "      <td>36.000000</td>\n",
       "    </tr>\n",
       "    <tr>\n",
       "      <td>max</td>\n",
       "      <td>5.000000</td>\n",
       "      <td>32855.000000</td>\n",
       "      <td>4379.000000</td>\n",
       "      <td>5250.000000</td>\n",
       "      <td>76.000000</td>\n",
       "    </tr>\n",
       "  </tbody>\n",
       "</table>\n",
       "</div>"
      ],
      "text/plain": [
       "            rating  number_of_ratings  final_price  original_price  \\\n",
       "count  1007.000000        1007.000000  1007.000000     1007.000000   \n",
       "mean      4.371400        1553.373386   347.646475      504.901688   \n",
       "std       0.191977        3575.178018   292.309611      443.504317   \n",
       "min       3.400000           3.000000    12.000000       15.000000   \n",
       "25%       4.300000         107.000000   180.000000      242.500000   \n",
       "50%       4.400000         425.000000   279.000000      395.000000   \n",
       "75%       4.500000        1303.500000   428.000000      599.000000   \n",
       "max       5.000000       32855.000000  4379.000000     5250.000000   \n",
       "\n",
       "          discount  \n",
       "count  1007.000000  \n",
       "mean     26.476663  \n",
       "std      15.550252  \n",
       "min       1.000000  \n",
       "25%      15.000000  \n",
       "50%      25.000000  \n",
       "75%      36.000000  \n",
       "max      76.000000  "
      ]
     },
     "execution_count": 152,
     "metadata": {},
     "output_type": "execute_result"
    }
   ],
   "source": [
    "df.describe()"
   ]
  },
  {
   "cell_type": "markdown",
   "metadata": {},
   "source": [
    "The type columns seems to have too much information under one name. I will split it into three seperate columns: \"Language\", \"Author\", and \"Bind\" to signify the language, author name, and bind of the books respectively."
   ]
  },
  {
   "cell_type": "code",
   "execution_count": 153,
   "metadata": {},
   "outputs": [],
   "source": [
    "#splitting the data into three parts:\n",
    "type_0 = [y[0] for y in [x for x in df['type'].str.split(',')]]\n",
    "type_1 = [y[1] for y in [x for x in df['type'].str.split(',')]] \n",
    "type_2 = []\n",
    "for i in df['type'].str.split(','):\n",
    "    try:\n",
    "        type_2.append(i[2])\n",
    "    except:\n",
    "        type_2.append(\"0\")"
   ]
  },
  {
   "cell_type": "markdown",
   "metadata": {},
   "source": [
    "I'm going to do have to do some manual work now. I will print the unique values present in the list to find out the language names and the bind names being used and split them."
   ]
  },
  {
   "cell_type": "code",
   "execution_count": 154,
   "metadata": {},
   "outputs": [
    {
     "data": {
      "text/plain": [
       "array(['Bengali', 'English', 'Fine Paperback', 'Gujarati', 'HARD BOND',\n",
       "       'HARD BOOK', 'HARDBOOK', 'Hardbook', 'Hardcover', 'Hindi',\n",
       "       'IMITATION LEATHER', 'Kannada', 'MADE EASY Publications',\n",
       "       'Malayalam', 'Marathi', 'Others', 'PAPAERBACK', 'PAPARBACK',\n",
       "       'PAPERBAGE', 'PAPERBOOK', 'PAPERBSCK', 'PAPERPACK', 'PAPERRBACK',\n",
       "       'PEPARBACK', 'Papar Back', 'Papeback', 'Paper black', 'Paperback',\n",
       "       'Paperbeck', 'Paperbook', 'Punjabi', 'SPIRAL BOUND', 'Tamil',\n",
       "       'Telugu', 'YES', 'hardbook', 'pagemaker'], dtype='<U22')"
      ]
     },
     "execution_count": 154,
     "metadata": {},
     "output_type": "execute_result"
    }
   ],
   "source": [
    "np.unique(type_0)"
   ]
  },
  {
   "cell_type": "code",
   "execution_count": 155,
   "metadata": {},
   "outputs": [],
   "source": [
    "lang = ['Bengali', 'English', 'Gujarati', 'Hindi', 'Kannada', 'Malayalam', 'Marathi', 'Punjabi', 'Tamil', 'Telugu']"
   ]
  },
  {
   "cell_type": "code",
   "execution_count": 156,
   "metadata": {},
   "outputs": [],
   "source": [
    "bind = list(np.unique([x for x in type_0 if x not in lang]))"
   ]
  },
  {
   "cell_type": "markdown",
   "metadata": {},
   "source": [
    "Now, let's start by creating the new columns and inputting data into these."
   ]
  },
  {
   "cell_type": "code",
   "execution_count": 157,
   "metadata": {},
   "outputs": [],
   "source": [
    "i=0\n",
    "for x in type_0:\n",
    "    if x in lang:\n",
    "        df.loc[i,'language'] = x\n",
    "    i+=1"
   ]
  },
  {
   "cell_type": "markdown",
   "metadata": {},
   "source": [
    "Checking for null values in \"Language\" column:"
   ]
  },
  {
   "cell_type": "code",
   "execution_count": 158,
   "metadata": {},
   "outputs": [
    {
     "data": {
      "text/plain": [
       "438"
      ]
     },
     "execution_count": 158,
     "metadata": {},
     "output_type": "execute_result"
    }
   ],
   "source": [
    "df['language'].isna().sum()"
   ]
  },
  {
   "cell_type": "markdown",
   "metadata": {},
   "source": [
    "Woah too many null values. I'll address those later. Now, let's move on to inputting the values in the \"Bind\" column."
   ]
  },
  {
   "cell_type": "code",
   "execution_count": 159,
   "metadata": {},
   "outputs": [],
   "source": [
    "i=0\n",
    "for x in type_0:\n",
    "    if x.strip() in bind:\n",
    "        df.loc[i,'bind'] = x.strip()\n",
    "    i+=1\n",
    "i=0\n",
    "for x in type_1:\n",
    "    if x.strip() in bind:\n",
    "        df.loc[i,'bind'] = x.strip()\n",
    "    i+=1\n",
    "i=0\n",
    "for x in type_2:\n",
    "    if x.strip() in bind:\n",
    "        df.loc[i,'bind'] = x.strip()\n",
    "    i+=1"
   ]
  },
  {
   "cell_type": "markdown",
   "metadata": {},
   "source": [
    "Checking for null values in \"Bind\" column:"
   ]
  },
  {
   "cell_type": "code",
   "execution_count": 160,
   "metadata": {},
   "outputs": [
    {
     "data": {
      "text/plain": [
       "39"
      ]
     },
     "execution_count": 160,
     "metadata": {},
     "output_type": "execute_result"
    }
   ],
   "source": [
    "df['bind'].isna().sum()"
   ]
  },
  {
   "cell_type": "markdown",
   "metadata": {},
   "source": [
    "Much better than \"Languages\". I will address these too. Moving on to inputting the \"Author\" column:"
   ]
  },
  {
   "cell_type": "code",
   "execution_count": 161,
   "metadata": {},
   "outputs": [],
   "source": [
    "author = lang+bind+[\"0\"] #setting variable to define names which are not author names"
   ]
  },
  {
   "cell_type": "markdown",
   "metadata": {},
   "source": [
    "Inputting values in the \"Author\" column:"
   ]
  },
  {
   "cell_type": "code",
   "execution_count": 162,
   "metadata": {},
   "outputs": [],
   "source": [
    "i=0\n",
    "for x in type_0:\n",
    "    if x.strip() not in author:\n",
    "        df.loc[i,'author'] = x.strip()\n",
    "    i+=1\n",
    "i=0\n",
    "for x in type_1:\n",
    "    if x.strip() not in author:\n",
    "        df.loc[i,'author'] = x.strip()\n",
    "    i+=1\n",
    "i=0\n",
    "for x in type_2:\n",
    "    if x.strip() not in author:\n",
    "        df.loc[i,'author'] = x.strip()\n",
    "    i+=1"
   ]
  },
  {
   "cell_type": "code",
   "execution_count": 163,
   "metadata": {},
   "outputs": [
    {
     "data": {
      "text/plain": [
       "0"
      ]
     },
     "execution_count": 163,
     "metadata": {},
     "output_type": "execute_result"
    }
   ],
   "source": [
    "df['author'].isna().sum()"
   ]
  },
  {
   "cell_type": "markdown",
   "metadata": {},
   "source": [
    "Great! All Author names are available. Now, let's take a look at the new data:"
   ]
  },
  {
   "cell_type": "code",
   "execution_count": 164,
   "metadata": {},
   "outputs": [
    {
     "data": {
      "text/html": [
       "<div>\n",
       "<style scoped>\n",
       "    .dataframe tbody tr th:only-of-type {\n",
       "        vertical-align: middle;\n",
       "    }\n",
       "\n",
       "    .dataframe tbody tr th {\n",
       "        vertical-align: top;\n",
       "    }\n",
       "\n",
       "    .dataframe thead th {\n",
       "        text-align: right;\n",
       "    }\n",
       "</style>\n",
       "<table border=\"1\" class=\"dataframe\">\n",
       "  <thead>\n",
       "    <tr style=\"text-align: right;\">\n",
       "      <th></th>\n",
       "      <th>name</th>\n",
       "      <th>type</th>\n",
       "      <th>rating</th>\n",
       "      <th>number_of_ratings</th>\n",
       "      <th>final_price</th>\n",
       "      <th>original_price</th>\n",
       "      <th>discount</th>\n",
       "      <th>language</th>\n",
       "      <th>bind</th>\n",
       "      <th>author</th>\n",
       "    </tr>\n",
       "  </thead>\n",
       "  <tbody>\n",
       "    <tr>\n",
       "      <td>0</td>\n",
       "      <td>Ethics (Hindi) - Nitishastra with 1 Disc</td>\n",
       "      <td>Hindi, Paperback, Sunil Agrahari</td>\n",
       "      <td>4.4</td>\n",
       "      <td>150</td>\n",
       "      <td>449</td>\n",
       "      <td>560</td>\n",
       "      <td>19</td>\n",
       "      <td>Hindi</td>\n",
       "      <td>Paperback</td>\n",
       "      <td>Sunil Agrahari</td>\n",
       "    </tr>\n",
       "    <tr>\n",
       "      <td>1</td>\n",
       "      <td>A Naturalist's Guide To The Reptiles Of India</td>\n",
       "      <td>English, Paperback, Das Indraneil</td>\n",
       "      <td>4.3</td>\n",
       "      <td>30</td>\n",
       "      <td>317</td>\n",
       "      <td>499</td>\n",
       "      <td>36</td>\n",
       "      <td>English</td>\n",
       "      <td>Paperback</td>\n",
       "      <td>Das Indraneil</td>\n",
       "    </tr>\n",
       "    <tr>\n",
       "      <td>2</td>\n",
       "      <td>Think Like a Monk - Train Your Mind for Peace ...</td>\n",
       "      <td>English, Paperback, Jay Shetty</td>\n",
       "      <td>4.8</td>\n",
       "      <td>807</td>\n",
       "      <td>388</td>\n",
       "      <td>499</td>\n",
       "      <td>22</td>\n",
       "      <td>English</td>\n",
       "      <td>Paperback</td>\n",
       "      <td>Jay Shetty</td>\n",
       "    </tr>\n",
       "    <tr>\n",
       "      <td>3</td>\n",
       "      <td>25 Years UPSC IAS/ IPS Prelims Topic-wise Solv...</td>\n",
       "      <td>English, Paperback, Disha Experts, Mrunal Patel</td>\n",
       "      <td>4.5</td>\n",
       "      <td>16860</td>\n",
       "      <td>271</td>\n",
       "      <td>525</td>\n",
       "      <td>48</td>\n",
       "      <td>English</td>\n",
       "      <td>Paperback</td>\n",
       "      <td>Disha Experts</td>\n",
       "    </tr>\n",
       "    <tr>\n",
       "      <td>4</td>\n",
       "      <td>Word Power Made Easy</td>\n",
       "      <td>Paperbook, Norman Lewis</td>\n",
       "      <td>4.3</td>\n",
       "      <td>808</td>\n",
       "      <td>170</td>\n",
       "      <td>399</td>\n",
       "      <td>57</td>\n",
       "      <td>NaN</td>\n",
       "      <td>Paperbook</td>\n",
       "      <td>Norman Lewis</td>\n",
       "    </tr>\n",
       "    <tr>\n",
       "      <td>...</td>\n",
       "      <td>...</td>\n",
       "      <td>...</td>\n",
       "      <td>...</td>\n",
       "      <td>...</td>\n",
       "      <td>...</td>\n",
       "      <td>...</td>\n",
       "      <td>...</td>\n",
       "      <td>...</td>\n",
       "      <td>...</td>\n",
       "      <td>...</td>\n",
       "    </tr>\n",
       "    <tr>\n",
       "      <td>1002</td>\n",
       "      <td>The Origin of Species</td>\n",
       "      <td>English, Paperback, Darwin Charles</td>\n",
       "      <td>4.5</td>\n",
       "      <td>2180</td>\n",
       "      <td>196</td>\n",
       "      <td>225</td>\n",
       "      <td>12</td>\n",
       "      <td>English</td>\n",
       "      <td>Paperback</td>\n",
       "      <td>Darwin Charles</td>\n",
       "    </tr>\n",
       "    <tr>\n",
       "      <td>1003</td>\n",
       "      <td>Objective NCERT at your Fingertip Biology XI-X...</td>\n",
       "      <td>Hindi, Paperback, MTG Editorial Board</td>\n",
       "      <td>4.3</td>\n",
       "      <td>503</td>\n",
       "      <td>614</td>\n",
       "      <td>800</td>\n",
       "      <td>23</td>\n",
       "      <td>Hindi</td>\n",
       "      <td>Paperback</td>\n",
       "      <td>MTG Editorial Board</td>\n",
       "    </tr>\n",
       "    <tr>\n",
       "      <td>1004</td>\n",
       "      <td>Post Graduate Entrance Examination Commerce</td>\n",
       "      <td>English, Paperback, Arihant Experts</td>\n",
       "      <td>4.3</td>\n",
       "      <td>175</td>\n",
       "      <td>147</td>\n",
       "      <td>205</td>\n",
       "      <td>28</td>\n",
       "      <td>English</td>\n",
       "      <td>Paperback</td>\n",
       "      <td>Arihant Experts</td>\n",
       "    </tr>\n",
       "    <tr>\n",
       "      <td>1005</td>\n",
       "      <td>Chemistry Part 1 Class XI</td>\n",
       "      <td>English, Paperback, unknown</td>\n",
       "      <td>4.2</td>\n",
       "      <td>1855</td>\n",
       "      <td>178</td>\n",
       "      <td>190</td>\n",
       "      <td>6</td>\n",
       "      <td>English</td>\n",
       "      <td>Paperback</td>\n",
       "      <td>unknown</td>\n",
       "    </tr>\n",
       "    <tr>\n",
       "      <td>1006</td>\n",
       "      <td>All In One Economics Class 12</td>\n",
       "      <td>Paperback, Akansha Sharma, Ritu Batra</td>\n",
       "      <td>4.3</td>\n",
       "      <td>11</td>\n",
       "      <td>330</td>\n",
       "      <td>375</td>\n",
       "      <td>12</td>\n",
       "      <td>NaN</td>\n",
       "      <td>Paperback</td>\n",
       "      <td>Ritu Batra</td>\n",
       "    </tr>\n",
       "  </tbody>\n",
       "</table>\n",
       "<p>1007 rows × 10 columns</p>\n",
       "</div>"
      ],
      "text/plain": [
       "                                                   name  \\\n",
       "0              Ethics (Hindi) - Nitishastra with 1 Disc   \n",
       "1         A Naturalist's Guide To The Reptiles Of India   \n",
       "2     Think Like a Monk - Train Your Mind for Peace ...   \n",
       "3     25 Years UPSC IAS/ IPS Prelims Topic-wise Solv...   \n",
       "4                                  Word Power Made Easy   \n",
       "...                                                 ...   \n",
       "1002                              The Origin of Species   \n",
       "1003  Objective NCERT at your Fingertip Biology XI-X...   \n",
       "1004        Post Graduate Entrance Examination Commerce   \n",
       "1005                          Chemistry Part 1 Class XI   \n",
       "1006                      All In One Economics Class 12   \n",
       "\n",
       "                                                 type  rating  \\\n",
       "0                    Hindi, Paperback, Sunil Agrahari     4.4   \n",
       "1                   English, Paperback, Das Indraneil     4.3   \n",
       "2                      English, Paperback, Jay Shetty     4.8   \n",
       "3     English, Paperback, Disha Experts, Mrunal Patel     4.5   \n",
       "4                             Paperbook, Norman Lewis     4.3   \n",
       "...                                               ...     ...   \n",
       "1002               English, Paperback, Darwin Charles     4.5   \n",
       "1003            Hindi, Paperback, MTG Editorial Board     4.3   \n",
       "1004              English, Paperback, Arihant Experts     4.3   \n",
       "1005                      English, Paperback, unknown     4.2   \n",
       "1006            Paperback, Akansha Sharma, Ritu Batra     4.3   \n",
       "\n",
       "      number_of_ratings  final_price  original_price  discount language  \\\n",
       "0                   150          449             560        19    Hindi   \n",
       "1                    30          317             499        36  English   \n",
       "2                   807          388             499        22  English   \n",
       "3                 16860          271             525        48  English   \n",
       "4                   808          170             399        57      NaN   \n",
       "...                 ...          ...             ...       ...      ...   \n",
       "1002               2180          196             225        12  English   \n",
       "1003                503          614             800        23    Hindi   \n",
       "1004                175          147             205        28  English   \n",
       "1005               1855          178             190         6  English   \n",
       "1006                 11          330             375        12      NaN   \n",
       "\n",
       "           bind               author  \n",
       "0     Paperback       Sunil Agrahari  \n",
       "1     Paperback        Das Indraneil  \n",
       "2     Paperback           Jay Shetty  \n",
       "3     Paperback        Disha Experts  \n",
       "4     Paperbook         Norman Lewis  \n",
       "...         ...                  ...  \n",
       "1002  Paperback       Darwin Charles  \n",
       "1003  Paperback  MTG Editorial Board  \n",
       "1004  Paperback      Arihant Experts  \n",
       "1005  Paperback              unknown  \n",
       "1006  Paperback           Ritu Batra  \n",
       "\n",
       "[1007 rows x 10 columns]"
      ]
     },
     "execution_count": 164,
     "metadata": {},
     "output_type": "execute_result"
    }
   ],
   "source": [
    "df"
   ]
  },
  {
   "cell_type": "markdown",
   "metadata": {},
   "source": [
    "Generating a heat map to visualize the presence of null values:"
   ]
  },
  {
   "cell_type": "code",
   "execution_count": 165,
   "metadata": {},
   "outputs": [
    {
     "data": {
      "text/plain": [
       "<matplotlib.axes._subplots.AxesSubplot at 0x15a2487ddc8>"
      ]
     },
     "execution_count": 165,
     "metadata": {},
     "output_type": "execute_result"
    },
    {
     "data": {
      "image/png": "[encoded data removed]",
      "text/plain": [
       "<Figure size 432x288 with 2 Axes>"
      ]
     },
     "metadata": {
      "needs_background": "light"
     },
     "output_type": "display_data"
    }
   ],
   "source": [
    "sns.heatmap(df.isna())"
   ]
  },
  {
   "cell_type": "markdown",
   "metadata": {},
   "source": [
    "Of all the languages added, it is quite possible that English would be the dominant language. Let's verify this:"
   ]
  },
  {
   "cell_type": "code",
   "execution_count": 166,
   "metadata": {},
   "outputs": [
    {
     "name": "stdout",
     "output_type": "stream",
     "text": [
      "Books in English = 80.31634446397189 %\n"
     ]
    }
   ],
   "source": [
    "print(\"Books in English = {} %\".format((int(sum(df['language']=='English')))*100/(int(df['language'].shape[0])-int(sum(df['language'].isna())))))"
   ]
  },
  {
   "cell_type": "markdown",
   "metadata": {},
   "source": [
    "Since 80% of the books were in English language, we can set the missing language names to English:"
   ]
  },
  {
   "cell_type": "code",
   "execution_count": 167,
   "metadata": {},
   "outputs": [],
   "source": [
    "df.loc[df['language'].isna(),'language']='English'"
   ]
  },
  {
   "cell_type": "markdown",
   "metadata": {},
   "source": [
    "Checking the heat map now:"
   ]
  },
  {
   "cell_type": "code",
   "execution_count": 168,
   "metadata": {},
   "outputs": [
    {
     "data": {
      "text/plain": [
       "<matplotlib.axes._subplots.AxesSubplot at 0x15a259f98c8>"
      ]
     },
     "execution_count": 168,
     "metadata": {},
     "output_type": "execute_result"
    },
    {
     "data": {
      "image/png": "[encoded data removed]",
      "text/plain": [
       "<Figure size 432x288 with 2 Axes>"
      ]
     },
     "metadata": {
      "needs_background": "light"
     },
     "output_type": "display_data"
    }
   ],
   "source": [
    "sns.heatmap(df.isna())"
   ]
  },
  {
   "cell_type": "markdown",
   "metadata": {},
   "source": [
    "Now, some of the bind names are missing. Let's take a look at the \"Bind\" column:"
   ]
  },
  {
   "cell_type": "code",
   "execution_count": 169,
   "metadata": {},
   "outputs": [
    {
     "data": {
      "text/plain": [
       "array(['Paperback', 'Paperbook', 'Fine Paperback',\n",
       "       'MADE EASY Publications', nan, 'Hardcover', 'pagemaker',\n",
       "       'hardbook', 'PAPARBACK', 'PAPERBAGE', 'HARD BOOK', 'Others',\n",
       "       'HARDBOOK', 'IMITATION LEATHER', 'PAPERPACK', 'PAPERBSCK',\n",
       "       'PAPERBOOK', 'Papeback', 'PAPERRBACK', 'PAPAERBACK', 'Paper black',\n",
       "       'YES', 'SPIRAL BOUND', 'Paperbeck', 'PEPARBACK', 'HARD BOND',\n",
       "       'Papar Back'], dtype=object)"
      ]
     },
     "execution_count": 169,
     "metadata": {},
     "output_type": "execute_result"
    }
   ],
   "source": [
    "df['bind'].unique()"
   ]
  },
  {
   "cell_type": "markdown",
   "metadata": {},
   "source": [
    "There seems to be a descrepency in the bind names, most of them are spelling errors. I'll usie the fuzzywuzzy library to perform string matching and correct the data. I will also be addressing the missing values in 'bind' section by assigning them to 'Paperback' (reason for that is provided later in this notebook)"
   ]
  },
  {
   "cell_type": "code",
   "execution_count": 170,
   "metadata": {},
   "outputs": [],
   "source": [
    "from fuzzywuzzy import process\n",
    "df_bind = pd.Series(['Paperback','Hardcover'])\n",
    "df['bind'].fillna('Paperback')\n",
    "for binding in df_bind:\n",
    "    matches = process.extract(binding, df['bind'], limit = df.shape[0])\n",
    "    for potential_match in matches:\n",
    "        if(potential_match[1]>=55):\n",
    "            df.loc[df['bind'] == potential_match[0], 'bind'] = binding"
   ]
  },
  {
   "cell_type": "code",
   "execution_count": 171,
   "metadata": {},
   "outputs": [
    {
     "data": {
      "text/plain": [
       "array(['Paperback', 'MADE EASY Publications', nan, 'Hardcover',\n",
       "       'pagemaker', 'Others', 'IMITATION LEATHER', 'YES', 'SPIRAL BOUND'],\n",
       "      dtype=object)"
      ]
     },
     "execution_count": 171,
     "metadata": {},
     "output_type": "execute_result"
    }
   ],
   "source": [
    "df['bind'].unique()"
   ]
  },
  {
   "cell_type": "code",
   "execution_count": 173,
   "metadata": {},
   "outputs": [],
   "source": [
    "df['bind'] = df['bind'].replace('pagemaker', 'Paperback')"
   ]
  },
  {
   "cell_type": "markdown",
   "metadata": {},
   "source": [
    "Let's check now:"
   ]
  },
  {
   "cell_type": "code",
   "execution_count": 174,
   "metadata": {},
   "outputs": [
    {
     "data": {
      "text/plain": [
       "array(['Paperback', 'MADE EASY Publications', nan, 'Hardcover', 'Others',\n",
       "       'IMITATION LEATHER', 'YES', 'SPIRAL BOUND'], dtype=object)"
      ]
     },
     "execution_count": 174,
     "metadata": {},
     "output_type": "execute_result"
    }
   ],
   "source": [
    "df['bind'].unique()"
   ]
  },
  {
   "cell_type": "markdown",
   "metadata": {},
   "source": [
    "It seems that the bind section will be neat if we classify the bind of the books to three categories: \"Paperback\", \"Hardcover\", and \"Others\". Let's check their distribution:"
   ]
  },
  {
   "cell_type": "code",
   "execution_count": 175,
   "metadata": {},
   "outputs": [
    {
     "name": "stdout",
     "output_type": "stream",
     "text": [
      "Paperback Books = 94.42148760330579 %\n",
      "Hardcover books= 4.75206611570248 %\n",
      "Other books = 0.8264462809917283 %\n"
     ]
    }
   ],
   "source": [
    "p = (int(sum(df['bind']=='Paperback')))*100/(int(df['bind'].shape[0])-int(sum(df['bind'].isna())))\n",
    "print(\"Paperback Books = {} %\".format(p))\n",
    "h = (int(sum(df['bind']=='Hardcover')))*100/(int(df['bind'].shape[0])-int(sum(df['bind'].isna())))\n",
    "print(\"Hardcover books= {} %\".format(h))\n",
    "print(\"Other books = {} %\".format((100-p-h)))"
   ]
  },
  {
   "cell_type": "markdown",
   "metadata": {},
   "source": [
    "Based on the distribution above, I'll classify the books other than Paperback and hardcover as \"Others\":"
   ]
  },
  {
   "cell_type": "code",
   "execution_count": 176,
   "metadata": {},
   "outputs": [],
   "source": [
    "df['bind'] = df['bind'].replace(['MADE EASY Publications','IMITATION LEATHER', 'YES', 'SPIRAL BOUND'], 'Others')"
   ]
  },
  {
   "cell_type": "markdown",
   "metadata": {},
   "source": [
    "The 39 empty Bind columns can be set as Paperback seeing that 94% books were Paperback:"
   ]
  },
  {
   "cell_type": "code",
   "execution_count": 177,
   "metadata": {},
   "outputs": [],
   "source": [
    "df.loc[df['bind'].isna(),'bind'] = 'Paperback'"
   ]
  },
  {
   "cell_type": "markdown",
   "metadata": {},
   "source": [
    "Let's check the heatmap now:"
   ]
  },
  {
   "cell_type": "code",
   "execution_count": 178,
   "metadata": {},
   "outputs": [
    {
     "data": {
      "text/plain": [
       "<matplotlib.axes._subplots.AxesSubplot at 0x15a25a849c8>"
      ]
     },
     "execution_count": 178,
     "metadata": {},
     "output_type": "execute_result"
    },
    {
     "data": {
      "image/png": "[encoded data removed]",
      "text/plain": [
       "<Figure size 432x288 with 2 Axes>"
      ]
     },
     "metadata": {
      "needs_background": "light"
     },
     "output_type": "display_data"
    }
   ],
   "source": [
    "sns.heatmap(df.isna())"
   ]
  },
  {
   "cell_type": "markdown",
   "metadata": {},
   "source": [
    "It seems safe to drop the \"Type\" column as it has no use now:"
   ]
  },
  {
   "cell_type": "code",
   "execution_count": 179,
   "metadata": {},
   "outputs": [],
   "source": [
    "df = df.drop(columns='type')"
   ]
  },
  {
   "cell_type": "markdown",
   "metadata": {},
   "source": [
    "For a better cleaner visualization, a new column with discount categories (called \"Discount Range\") can be created as follows:"
   ]
  },
  {
   "cell_type": "code",
   "execution_count": 180,
   "metadata": {},
   "outputs": [],
   "source": [
    "binInterval = [0, 10, 20, 30, 40, 50, 60, 70, 80, 90, 100]\n",
    "binLabels   = ['1-10','11-20','21-30','31-40','41-50','51-60','61-70','71-80','81-90','90-100']\n",
    "df['discount_range'] = pd.cut(df['discount'], bins = binInterval, labels=binLabels)"
   ]
  },
  {
   "cell_type": "markdown",
   "metadata": {},
   "source": [
    "Checking if the process did not create any null values in \"Discount Range\" column:"
   ]
  },
  {
   "cell_type": "code",
   "execution_count": 181,
   "metadata": {},
   "outputs": [
    {
     "data": {
      "text/plain": [
       "0"
      ]
     },
     "execution_count": 181,
     "metadata": {},
     "output_type": "execute_result"
    }
   ],
   "source": [
    "df['discount_range'].isna().sum()"
   ]
  },
  {
   "cell_type": "markdown",
   "metadata": {},
   "source": [
    "Looks great! Let's finally print the dataframe and export it into a csv file."
   ]
  },
  {
   "cell_type": "code",
   "execution_count": 182,
   "metadata": {},
   "outputs": [
    {
     "data": {
      "text/html": [
       "<div>\n",
       "<style scoped>\n",
       "    .dataframe tbody tr th:only-of-type {\n",
       "        vertical-align: middle;\n",
       "    }\n",
       "\n",
       "    .dataframe tbody tr th {\n",
       "        vertical-align: top;\n",
       "    }\n",
       "\n",
       "    .dataframe thead th {\n",
       "        text-align: right;\n",
       "    }\n",
       "</style>\n",
       "<table border=\"1\" class=\"dataframe\">\n",
       "  <thead>\n",
       "    <tr style=\"text-align: right;\">\n",
       "      <th></th>\n",
       "      <th>name</th>\n",
       "      <th>rating</th>\n",
       "      <th>number_of_ratings</th>\n",
       "      <th>final_price</th>\n",
       "      <th>original_price</th>\n",
       "      <th>discount</th>\n",
       "      <th>language</th>\n",
       "      <th>bind</th>\n",
       "      <th>author</th>\n",
       "      <th>discount_range</th>\n",
       "    </tr>\n",
       "  </thead>\n",
       "  <tbody>\n",
       "    <tr>\n",
       "      <td>0</td>\n",
       "      <td>Ethics (Hindi) - Nitishastra with 1 Disc</td>\n",
       "      <td>4.4</td>\n",
       "      <td>150</td>\n",
       "      <td>449</td>\n",
       "      <td>560</td>\n",
       "      <td>19</td>\n",
       "      <td>Hindi</td>\n",
       "      <td>Paperback</td>\n",
       "      <td>Sunil Agrahari</td>\n",
       "      <td>11-20</td>\n",
       "    </tr>\n",
       "    <tr>\n",
       "      <td>1</td>\n",
       "      <td>A Naturalist's Guide To The Reptiles Of India</td>\n",
       "      <td>4.3</td>\n",
       "      <td>30</td>\n",
       "      <td>317</td>\n",
       "      <td>499</td>\n",
       "      <td>36</td>\n",
       "      <td>English</td>\n",
       "      <td>Paperback</td>\n",
       "      <td>Das Indraneil</td>\n",
       "      <td>31-40</td>\n",
       "    </tr>\n",
       "    <tr>\n",
       "      <td>2</td>\n",
       "      <td>Think Like a Monk - Train Your Mind for Peace ...</td>\n",
       "      <td>4.8</td>\n",
       "      <td>807</td>\n",
       "      <td>388</td>\n",
       "      <td>499</td>\n",
       "      <td>22</td>\n",
       "      <td>English</td>\n",
       "      <td>Paperback</td>\n",
       "      <td>Jay Shetty</td>\n",
       "      <td>21-30</td>\n",
       "    </tr>\n",
       "    <tr>\n",
       "      <td>3</td>\n",
       "      <td>25 Years UPSC IAS/ IPS Prelims Topic-wise Solv...</td>\n",
       "      <td>4.5</td>\n",
       "      <td>16860</td>\n",
       "      <td>271</td>\n",
       "      <td>525</td>\n",
       "      <td>48</td>\n",
       "      <td>English</td>\n",
       "      <td>Paperback</td>\n",
       "      <td>Disha Experts</td>\n",
       "      <td>41-50</td>\n",
       "    </tr>\n",
       "    <tr>\n",
       "      <td>4</td>\n",
       "      <td>Word Power Made Easy</td>\n",
       "      <td>4.3</td>\n",
       "      <td>808</td>\n",
       "      <td>170</td>\n",
       "      <td>399</td>\n",
       "      <td>57</td>\n",
       "      <td>English</td>\n",
       "      <td>Paperback</td>\n",
       "      <td>Norman Lewis</td>\n",
       "      <td>51-60</td>\n",
       "    </tr>\n",
       "    <tr>\n",
       "      <td>...</td>\n",
       "      <td>...</td>\n",
       "      <td>...</td>\n",
       "      <td>...</td>\n",
       "      <td>...</td>\n",
       "      <td>...</td>\n",
       "      <td>...</td>\n",
       "      <td>...</td>\n",
       "      <td>...</td>\n",
       "      <td>...</td>\n",
       "      <td>...</td>\n",
       "    </tr>\n",
       "    <tr>\n",
       "      <td>1002</td>\n",
       "      <td>The Origin of Species</td>\n",
       "      <td>4.5</td>\n",
       "      <td>2180</td>\n",
       "      <td>196</td>\n",
       "      <td>225</td>\n",
       "      <td>12</td>\n",
       "      <td>English</td>\n",
       "      <td>Paperback</td>\n",
       "      <td>Darwin Charles</td>\n",
       "      <td>11-20</td>\n",
       "    </tr>\n",
       "    <tr>\n",
       "      <td>1003</td>\n",
       "      <td>Objective NCERT at your Fingertip Biology XI-X...</td>\n",
       "      <td>4.3</td>\n",
       "      <td>503</td>\n",
       "      <td>614</td>\n",
       "      <td>800</td>\n",
       "      <td>23</td>\n",
       "      <td>Hindi</td>\n",
       "      <td>Paperback</td>\n",
       "      <td>MTG Editorial Board</td>\n",
       "      <td>21-30</td>\n",
       "    </tr>\n",
       "    <tr>\n",
       "      <td>1004</td>\n",
       "      <td>Post Graduate Entrance Examination Commerce</td>\n",
       "      <td>4.3</td>\n",
       "      <td>175</td>\n",
       "      <td>147</td>\n",
       "      <td>205</td>\n",
       "      <td>28</td>\n",
       "      <td>English</td>\n",
       "      <td>Paperback</td>\n",
       "      <td>Arihant Experts</td>\n",
       "      <td>21-30</td>\n",
       "    </tr>\n",
       "    <tr>\n",
       "      <td>1005</td>\n",
       "      <td>Chemistry Part 1 Class XI</td>\n",
       "      <td>4.2</td>\n",
       "      <td>1855</td>\n",
       "      <td>178</td>\n",
       "      <td>190</td>\n",
       "      <td>6</td>\n",
       "      <td>English</td>\n",
       "      <td>Paperback</td>\n",
       "      <td>unknown</td>\n",
       "      <td>1-10</td>\n",
       "    </tr>\n",
       "    <tr>\n",
       "      <td>1006</td>\n",
       "      <td>All In One Economics Class 12</td>\n",
       "      <td>4.3</td>\n",
       "      <td>11</td>\n",
       "      <td>330</td>\n",
       "      <td>375</td>\n",
       "      <td>12</td>\n",
       "      <td>English</td>\n",
       "      <td>Paperback</td>\n",
       "      <td>Ritu Batra</td>\n",
       "      <td>11-20</td>\n",
       "    </tr>\n",
       "  </tbody>\n",
       "</table>\n",
       "<p>1007 rows × 10 columns</p>\n",
       "</div>"
      ],
      "text/plain": [
       "                                                   name  rating  \\\n",
       "0              Ethics (Hindi) - Nitishastra with 1 Disc     4.4   \n",
       "1         A Naturalist's Guide To The Reptiles Of India     4.3   \n",
       "2     Think Like a Monk - Train Your Mind for Peace ...     4.8   \n",
       "3     25 Years UPSC IAS/ IPS Prelims Topic-wise Solv...     4.5   \n",
       "4                                  Word Power Made Easy     4.3   \n",
       "...                                                 ...     ...   \n",
       "1002                              The Origin of Species     4.5   \n",
       "1003  Objective NCERT at your Fingertip Biology XI-X...     4.3   \n",
       "1004        Post Graduate Entrance Examination Commerce     4.3   \n",
       "1005                          Chemistry Part 1 Class XI     4.2   \n",
       "1006                      All In One Economics Class 12     4.3   \n",
       "\n",
       "      number_of_ratings  final_price  original_price  discount language  \\\n",
       "0                   150          449             560        19    Hindi   \n",
       "1                    30          317             499        36  English   \n",
       "2                   807          388             499        22  English   \n",
       "3                 16860          271             525        48  English   \n",
       "4                   808          170             399        57  English   \n",
       "...                 ...          ...             ...       ...      ...   \n",
       "1002               2180          196             225        12  English   \n",
       "1003                503          614             800        23    Hindi   \n",
       "1004                175          147             205        28  English   \n",
       "1005               1855          178             190         6  English   \n",
       "1006                 11          330             375        12  English   \n",
       "\n",
       "           bind               author discount_range  \n",
       "0     Paperback       Sunil Agrahari          11-20  \n",
       "1     Paperback        Das Indraneil          31-40  \n",
       "2     Paperback           Jay Shetty          21-30  \n",
       "3     Paperback        Disha Experts          41-50  \n",
       "4     Paperback         Norman Lewis          51-60  \n",
       "...         ...                  ...            ...  \n",
       "1002  Paperback       Darwin Charles          11-20  \n",
       "1003  Paperback  MTG Editorial Board          21-30  \n",
       "1004  Paperback      Arihant Experts          21-30  \n",
       "1005  Paperback              unknown           1-10  \n",
       "1006  Paperback           Ritu Batra          11-20  \n",
       "\n",
       "[1007 rows x 10 columns]"
      ]
     },
     "execution_count": 182,
     "metadata": {},
     "output_type": "execute_result"
    }
   ],
   "source": [
    "df"
   ]
  },
  {
   "cell_type": "code",
   "execution_count": 183,
   "metadata": {},
   "outputs": [],
   "source": [
    "df.to_csv('flipkart_books.csv')"
   ]
  },
  {
   "cell_type": "markdown",
   "metadata": {},
   "source": [
    "<h3>Conclusion: </h3>\n",
    "\n",
    "The data scraped from the flipkart website was analysed & cleaned for creating effective visualizations."
   ]
  }
 ],
 "metadata": {
  "kernelspec": {
   "display_name": "Python 3",
   "language": "python",
   "name": "python3"
  },
  "language_info": {
   "codemirror_mode": {
    "name": "ipython",
    "version": 3
   },
   "file_extension": ".py",
   "mimetype": "text/x-python",
   "name": "python",
   "nbconvert_exporter": "python",
   "pygments_lexer": "ipython3",
   "version": "3.7.4"
  }
 },
 "nbformat": 4,
 "nbformat_minor": 2
}
