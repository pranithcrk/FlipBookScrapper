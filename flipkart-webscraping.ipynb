{
 "cells": [
  {
   "cell_type": "markdown",
   "metadata": {},
   "source": [
    "In this project, I'll be using BeautifulSoup library to perform web scraping of the first 100 pages of \"Books\" data from Flipkart. This data can be utilized to create visualizations to study the impact of various factors on the ratings and discounts of books sold on Flipkart. I'll first start by importing the relevant libraries to the project."
   ]
  },
  {
   "cell_type": "code",
   "execution_count": 1,
   "metadata": {},
   "outputs": [],
   "source": [
    "from bs4 import BeautifulSoup\n",
    "import pandas as pd\n",
    "import requests\n",
    "import matplotlib.pyplot as plt"
   ]
  },
  {
   "cell_type": "markdown",
   "metadata": {},
   "source": [
    "Now, web scraping is performed using the imported BeautifulSoup library. First, the get request will be sent to the specified Flipkart URL. After extracting HTML from the request, it is parsed using BeautifulSoup library. The required text is extracted and converted into a list."
   ]
  },
  {
   "cell_type": "code",
   "execution_count": 2,
   "metadata": {},
   "outputs": [],
   "source": [
    "headers = {'User-Agent': 'Mozilla/5.0 (Windows NT 6.3; Win64; x64) AppleWebKit/537.36 (KHTML, like Gecko) Chrome/54.0.2840.71 Safari/537.36'}\n",
    "t = []\n",
    "for x in range(1,100):\n",
    "    url = \"https://www.flipkart.com/books/pr?sid=bks&otracker=categorytree&page={}\".format(x)\n",
    "    r = requests.get(url, headers=headers)\n",
    "    html = r.text\n",
    "    soup = BeautifulSoup(html)\n",
    "    data = soup.find_all(['a','div', 'span'], class_ = ['_2cLu-l', '_1rcHFq', '_2_KrJI', '_38sUEc', '_38sUEc', '_1vC4OE', '_3auQ3N', 'VGWI6T'])\n",
    "    a = []\n",
    "    for i in data:\n",
    "        if i.get('class') == ['_2cLu-l']:\n",
    "            t.append(a)\n",
    "            a = []\n",
    "            a.append(i.text)\n",
    "            continue\n",
    "        a.append(i.text)"
   ]
  },
  {
   "cell_type": "markdown",
   "metadata": {},
   "source": [
    "The list is now converted into a dataframe and relevant column names are provided."
   ]
  },
  {
   "cell_type": "code",
   "execution_count": 3,
   "metadata": {},
   "outputs": [],
   "source": [
    "df = pd.DataFrame(t, columns=['name','type','rating','number_of_ratings', 'final_price', 'original_price', 'discount'])"
   ]
  },
  {
   "cell_type": "markdown",
   "metadata": {},
   "source": [
    "Following is a snippet of the extracted data:"
   ]
  },
  {
   "cell_type": "code",
   "execution_count": 4,
   "metadata": {},
   "outputs": [
    {
     "data": {
      "text/html": [
       "<div>\n",
       "<style scoped>\n",
       "    .dataframe tbody tr th:only-of-type {\n",
       "        vertical-align: middle;\n",
       "    }\n",
       "\n",
       "    .dataframe tbody tr th {\n",
       "        vertical-align: top;\n",
       "    }\n",
       "\n",
       "    .dataframe thead th {\n",
       "        text-align: right;\n",
       "    }\n",
       "</style>\n",
       "<table border=\"1\" class=\"dataframe\">\n",
       "  <thead>\n",
       "    <tr style=\"text-align: right;\">\n",
       "      <th></th>\n",
       "      <th>name</th>\n",
       "      <th>type</th>\n",
       "      <th>rating</th>\n",
       "      <th>number_of_ratings</th>\n",
       "      <th>final_price</th>\n",
       "      <th>original_price</th>\n",
       "      <th>discount</th>\n",
       "    </tr>\n",
       "  </thead>\n",
       "  <tbody>\n",
       "    <tr>\n",
       "      <td>0</td>\n",
       "      <td>None</td>\n",
       "      <td>None</td>\n",
       "      <td>None</td>\n",
       "      <td>None</td>\n",
       "      <td>None</td>\n",
       "      <td>None</td>\n",
       "      <td>None</td>\n",
       "    </tr>\n",
       "    <tr>\n",
       "      <td>1</td>\n",
       "      <td>Ethics (Hindi) - Nitishastra with 1 Disc</td>\n",
       "      <td>Hindi, Paperback, Sunil Agrahari</td>\n",
       "      <td>4.4</td>\n",
       "      <td>(150)</td>\n",
       "      <td>₹449</td>\n",
       "      <td>₹560</td>\n",
       "      <td>19% off</td>\n",
       "    </tr>\n",
       "    <tr>\n",
       "      <td>2</td>\n",
       "      <td>A Naturalist's Guide To The Reptiles Of India</td>\n",
       "      <td>English, Paperback, Das Indraneil</td>\n",
       "      <td>4.3</td>\n",
       "      <td>(30)</td>\n",
       "      <td>₹317</td>\n",
       "      <td>₹499</td>\n",
       "      <td>36% off</td>\n",
       "    </tr>\n",
       "    <tr>\n",
       "      <td>3</td>\n",
       "      <td>Think Like a Monk - Train Your Mind for Peace ...</td>\n",
       "      <td>English, Paperback, Jay Shetty</td>\n",
       "      <td>4.8</td>\n",
       "      <td>(807)</td>\n",
       "      <td>₹388</td>\n",
       "      <td>₹499</td>\n",
       "      <td>22% off</td>\n",
       "    </tr>\n",
       "    <tr>\n",
       "      <td>4</td>\n",
       "      <td>25 Years UPSC IAS/ IPS Prelims Topic-wise Solv...</td>\n",
       "      <td>English, Paperback, Disha Experts, Mrunal Patel</td>\n",
       "      <td>4.5</td>\n",
       "      <td>(16,860)</td>\n",
       "      <td>₹271</td>\n",
       "      <td>₹525</td>\n",
       "      <td>48% off</td>\n",
       "    </tr>\n",
       "  </tbody>\n",
       "</table>\n",
       "</div>"
      ],
      "text/plain": [
       "                                                name  \\\n",
       "0                                               None   \n",
       "1           Ethics (Hindi) - Nitishastra with 1 Disc   \n",
       "2      A Naturalist's Guide To The Reptiles Of India   \n",
       "3  Think Like a Monk - Train Your Mind for Peace ...   \n",
       "4  25 Years UPSC IAS/ IPS Prelims Topic-wise Solv...   \n",
       "\n",
       "                                              type rating number_of_ratings  \\\n",
       "0                                             None   None              None   \n",
       "1                 Hindi, Paperback, Sunil Agrahari    4.4             (150)   \n",
       "2                English, Paperback, Das Indraneil    4.3              (30)   \n",
       "3                   English, Paperback, Jay Shetty    4.8             (807)   \n",
       "4  English, Paperback, Disha Experts, Mrunal Patel    4.5          (16,860)   \n",
       "\n",
       "  final_price original_price discount  \n",
       "0        None           None     None  \n",
       "1        ₹449           ₹560  19% off  \n",
       "2        ₹317           ₹499  36% off  \n",
       "3        ₹388           ₹499  22% off  \n",
       "4        ₹271           ₹525  48% off  "
      ]
     },
     "execution_count": 4,
     "metadata": {},
     "output_type": "execute_result"
    }
   ],
   "source": [
    "df.head()"
   ]
  },
  {
   "cell_type": "markdown",
   "metadata": {},
   "source": [
    "Now that data has been extracted, I'll remove incomplete rows, and convert the data to its relevant type so that calculations can be easily performed on it."
   ]
  },
  {
   "cell_type": "code",
   "execution_count": 5,
   "metadata": {},
   "outputs": [],
   "source": [
    "df = df.dropna(how='any')"
   ]
  },
  {
   "cell_type": "code",
   "execution_count": 6,
   "metadata": {},
   "outputs": [
    {
     "data": {
      "text/plain": [
       "name                 0\n",
       "type                 0\n",
       "rating               0\n",
       "number_of_ratings    0\n",
       "final_price          0\n",
       "original_price       0\n",
       "discount             0\n",
       "dtype: int64"
      ]
     },
     "execution_count": 6,
     "metadata": {},
     "output_type": "execute_result"
    }
   ],
   "source": [
    "df.isna().sum()"
   ]
  },
  {
   "cell_type": "code",
   "execution_count": 7,
   "metadata": {},
   "outputs": [
    {
     "data": {
      "text/plain": [
       "name                 object\n",
       "type                 object\n",
       "rating               object\n",
       "number_of_ratings    object\n",
       "final_price          object\n",
       "original_price       object\n",
       "discount             object\n",
       "dtype: object"
      ]
     },
     "execution_count": 7,
     "metadata": {},
     "output_type": "execute_result"
    }
   ],
   "source": [
    "df.dtypes"
   ]
  },
  {
   "cell_type": "code",
   "execution_count": 8,
   "metadata": {},
   "outputs": [],
   "source": [
    "df['number_of_ratings'] = pd.to_numeric(df['number_of_ratings'].str.replace('(','').str.replace(')','').str.replace(',',''))"
   ]
  },
  {
   "cell_type": "code",
   "execution_count": 9,
   "metadata": {},
   "outputs": [],
   "source": [
    "df['final_price'] = pd.to_numeric(df['final_price'].str.replace('₹','').str.replace(',',''))"
   ]
  },
  {
   "cell_type": "code",
   "execution_count": 10,
   "metadata": {},
   "outputs": [],
   "source": [
    "df['original_price'] = pd.to_numeric(df['original_price'].str.replace('₹','').str.replace(',',''))"
   ]
  },
  {
   "cell_type": "code",
   "execution_count": 11,
   "metadata": {},
   "outputs": [],
   "source": [
    "df['discount'] = pd.to_numeric(df['discount'].str.replace('% off',''))"
   ]
  },
  {
   "cell_type": "code",
   "execution_count": 12,
   "metadata": {},
   "outputs": [],
   "source": [
    "df['rating'] = pd.to_numeric(df['rating'])"
   ]
  },
  {
   "cell_type": "markdown",
   "metadata": {},
   "source": [
    "Let's check the data type of the columns:"
   ]
  },
  {
   "cell_type": "code",
   "execution_count": 13,
   "metadata": {},
   "outputs": [
    {
     "data": {
      "text/plain": [
       "name                  object\n",
       "type                  object\n",
       "rating               float64\n",
       "number_of_ratings      int64\n",
       "final_price            int64\n",
       "original_price         int64\n",
       "discount               int64\n",
       "dtype: object"
      ]
     },
     "execution_count": 13,
     "metadata": {},
     "output_type": "execute_result"
    }
   ],
   "source": [
    "df.dtypes"
   ]
  },
  {
   "cell_type": "markdown",
   "metadata": {},
   "source": [
    "Here is the cleaned data:"
   ]
  },
  {
   "cell_type": "code",
   "execution_count": 14,
   "metadata": {},
   "outputs": [
    {
     "data": {
      "text/html": [
       "<div>\n",
       "<style scoped>\n",
       "    .dataframe tbody tr th:only-of-type {\n",
       "        vertical-align: middle;\n",
       "    }\n",
       "\n",
       "    .dataframe tbody tr th {\n",
       "        vertical-align: top;\n",
       "    }\n",
       "\n",
       "    .dataframe thead th {\n",
       "        text-align: right;\n",
       "    }\n",
       "</style>\n",
       "<table border=\"1\" class=\"dataframe\">\n",
       "  <thead>\n",
       "    <tr style=\"text-align: right;\">\n",
       "      <th></th>\n",
       "      <th>name</th>\n",
       "      <th>type</th>\n",
       "      <th>rating</th>\n",
       "      <th>number_of_ratings</th>\n",
       "      <th>final_price</th>\n",
       "      <th>original_price</th>\n",
       "      <th>discount</th>\n",
       "    </tr>\n",
       "  </thead>\n",
       "  <tbody>\n",
       "    <tr>\n",
       "      <td>1</td>\n",
       "      <td>Ethics (Hindi) - Nitishastra with 1 Disc</td>\n",
       "      <td>Hindi, Paperback, Sunil Agrahari</td>\n",
       "      <td>4.4</td>\n",
       "      <td>150</td>\n",
       "      <td>449</td>\n",
       "      <td>560</td>\n",
       "      <td>19</td>\n",
       "    </tr>\n",
       "    <tr>\n",
       "      <td>2</td>\n",
       "      <td>A Naturalist's Guide To The Reptiles Of India</td>\n",
       "      <td>English, Paperback, Das Indraneil</td>\n",
       "      <td>4.3</td>\n",
       "      <td>30</td>\n",
       "      <td>317</td>\n",
       "      <td>499</td>\n",
       "      <td>36</td>\n",
       "    </tr>\n",
       "    <tr>\n",
       "      <td>3</td>\n",
       "      <td>Think Like a Monk - Train Your Mind for Peace ...</td>\n",
       "      <td>English, Paperback, Jay Shetty</td>\n",
       "      <td>4.8</td>\n",
       "      <td>807</td>\n",
       "      <td>388</td>\n",
       "      <td>499</td>\n",
       "      <td>22</td>\n",
       "    </tr>\n",
       "    <tr>\n",
       "      <td>4</td>\n",
       "      <td>25 Years UPSC IAS/ IPS Prelims Topic-wise Solv...</td>\n",
       "      <td>English, Paperback, Disha Experts, Mrunal Patel</td>\n",
       "      <td>4.5</td>\n",
       "      <td>16860</td>\n",
       "      <td>271</td>\n",
       "      <td>525</td>\n",
       "      <td>48</td>\n",
       "    </tr>\n",
       "    <tr>\n",
       "      <td>5</td>\n",
       "      <td>Word Power Made Easy</td>\n",
       "      <td>Paperbook, Norman Lewis</td>\n",
       "      <td>4.3</td>\n",
       "      <td>808</td>\n",
       "      <td>170</td>\n",
       "      <td>399</td>\n",
       "      <td>57</td>\n",
       "    </tr>\n",
       "  </tbody>\n",
       "</table>\n",
       "</div>"
      ],
      "text/plain": [
       "                                                name  \\\n",
       "1           Ethics (Hindi) - Nitishastra with 1 Disc   \n",
       "2      A Naturalist's Guide To The Reptiles Of India   \n",
       "3  Think Like a Monk - Train Your Mind for Peace ...   \n",
       "4  25 Years UPSC IAS/ IPS Prelims Topic-wise Solv...   \n",
       "5                               Word Power Made Easy   \n",
       "\n",
       "                                              type  rating  number_of_ratings  \\\n",
       "1                 Hindi, Paperback, Sunil Agrahari     4.4                150   \n",
       "2                English, Paperback, Das Indraneil     4.3                 30   \n",
       "3                   English, Paperback, Jay Shetty     4.8                807   \n",
       "4  English, Paperback, Disha Experts, Mrunal Patel     4.5              16860   \n",
       "5                          Paperbook, Norman Lewis     4.3                808   \n",
       "\n",
       "   final_price  original_price  discount  \n",
       "1          449             560        19  \n",
       "2          317             499        36  \n",
       "3          388             499        22  \n",
       "4          271             525        48  \n",
       "5          170             399        57  "
      ]
     },
     "execution_count": 14,
     "metadata": {},
     "output_type": "execute_result"
    }
   ],
   "source": [
    "df.head()"
   ]
  },
  {
   "cell_type": "markdown",
   "metadata": {},
   "source": [
    "Now, the extracted and cleaned data can be converted into a CSV for ease of access."
   ]
  },
  {
   "cell_type": "code",
   "execution_count": 15,
   "metadata": {},
   "outputs": [],
   "source": [
    "df.reset_index(drop=True).to_csv(r'C:\\Users\\nakausha\\Downloads\\projects\\flipkart-webscraping\\flipkart_books.csv')"
   ]
  }
 ],
 "metadata": {
  "kernelspec": {
   "display_name": "Python 3",
   "language": "python",
   "name": "python3"
  },
  "language_info": {
   "codemirror_mode": {
    "name": "ipython",
    "version": 3
   },
   "file_extension": ".py",
   "mimetype": "text/x-python",
   "name": "python",
   "nbconvert_exporter": "python",
   "pygments_lexer": "ipython3",
   "version": "3.7.4"
  }
 },
 "nbformat": 4,
 "nbformat_minor": 2
}
